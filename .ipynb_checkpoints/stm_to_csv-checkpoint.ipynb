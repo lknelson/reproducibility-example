{
 "cells": [
  {
   "cell_type": "code",
   "execution_count": 1,
   "metadata": {},
   "outputs": [
    {
     "name": "stderr",
     "output_type": "stream",
     "text": [
      "stm v1.3.0 (2017-09-08) successfully loaded. See ?stm for help.\n"
     ]
    }
   ],
   "source": [
    "library(stm)\n",
    "\n",
    "#load the saved STM\n",
    "load(\"input_data/stm_1234.RData\")"
   ]
  },
  {
   "cell_type": "code",
   "execution_count": 2,
   "metadata": {
    "collapsed": true
   },
   "outputs": [],
   "source": [
    "#merge theta onto original dataset\n",
    "meta$ID <- seq.int(nrow(meta))\n",
    "theta <- data.frame(mod.40$theta)\n",
    "theta$ID <- seq.int(nrow(theta))\n",
    "df_all <- merge(meta, theta)\n",
    "df_all['ID'] <- NULL\n",
    "df_all['X'] <- NULL"
   ]
  },
  {
   "cell_type": "code",
   "execution_count": 4,
   "metadata": {},
   "outputs": [],
   "source": [
    "#write to csv\n",
    "write.csv(df_all, file=\"data/comparativewomensmovement_dataset_withtopicweights.csv\")"
   ]
  },
  {
   "cell_type": "code",
   "execution_count": 11,
   "metadata": {
    "scrolled": true
   },
   "outputs": [],
   "source": [
    "terms40 <- labelTopics(mod.40, n=20)\n",
    "terms <- terms40$prob\n",
    "terms <- t(terms)"
   ]
  },
  {
   "cell_type": "code",
   "execution_count": 14,
   "metadata": {
    "collapsed": true
   },
   "outputs": [],
   "source": [
    "write.csv(terms, file=\"data/comparativewomensmovement_topweightedtopicwords.csv\")"
   ]
  }
 ],
 "metadata": {
  "kernelspec": {
   "display_name": "R",
   "language": "R",
   "name": "ir"
  },
  "language_info": {
   "codemirror_mode": "r",
   "file_extension": ".r",
   "mimetype": "text/x-r-source",
   "name": "R",
   "pygments_lexer": "r",
   "version": "3.4.2"
  }
 },
 "nbformat": 4,
 "nbformat_minor": 2
}
